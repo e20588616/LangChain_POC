{
 "cells": [
  {
   "cell_type": "code",
   "execution_count": 2,
   "metadata": {},
   "outputs": [],
   "source": [
    "from langchain.text_splitter import CharacterTextSplitter\n",
    "from langchain.document_loaders import TextLoader\n",
    "from langchain.vectorstores import Chroma\n",
    "from langchain.embeddings import HuggingFaceEmbeddings\n"
   ]
  },
  {
   "cell_type": "code",
   "execution_count": null,
   "metadata": {},
   "outputs": [],
   "source": [
    "# 確保資料夾存在且可寫入\n",
    "persist_directory = 'zh-tw-MGF_Profile'\n",
    "# 使用 HuggingFace 嵌入\n",
    "model_name = \"sentence-transformers/all-mpnet-base-v2\"\n",
    "model_kwargs = {'device': 'cpu'}\n",
    "encode_kwargs = {'normalize_embeddings': False}\n",
    "embedding = HuggingFaceEmbeddings(\n",
    "    model_name=model_name,\n",
    "    model_kwargs=model_kwargs,\n",
    "    encode_kwargs=encode_kwargs\n",
    ")\n",
    "\n",
    "# 加載文本並創建向量數據庫\n",
    "loader = TextLoader('en-MFG/en-MGF_contents.txt')\n",
    "documents = loader.load()\n",
    "text_spliter = CharacterTextSplitter(chunk_size=1000, chunk_overlap=0)\n",
    "text_chunks = text_spliter.split_documents(documents)\n",
    "\n",
    "# 創建 Chroma 的儲存方式\n",
    "vectordb = Chroma.from_documents(documents=text_chunks,\n",
    "                                  embedding=embedding,  # 使用 embed_query 方法\n",
    "                                  persist_directory=persist_directory)\n",
    "vectordb.persist()\n",
    "vectordb = None"
   ]
  },
  {
   "cell_type": "code",
   "execution_count": 7,
   "metadata": {},
   "outputs": [],
   "source": [
    "###PDF\n",
    "import fitz  # PyMuPDF\n",
    "from langchain.vectorstores import Chroma\n",
    "from langchain.schema import Document\n",
    "\n",
    "persist_directory = 'zh-tw-MGF_Technology'\n",
    "# 加载 PDF 文件并提取文本\n",
    "def load_pdf(file_path):\n",
    "    doc = fitz.open(file_path)\n",
    "    text_chunks = []\n",
    "    for page_num in range(len(doc)):\n",
    "        page = doc.load_page(page_num)\n",
    "        text_chunks.append(page.get_text())\n",
    "    return text_chunks\n",
    "\n",
    "pdf_file_path = 'zh-tw-MGF_Technology_output.pdf'\n",
    "\n",
    "text_chunks = load_pdf(pdf_file_path)\n",
    "\n",
    "documents = [Document(page_content=chunk) for chunk in text_chunks]\n",
    "\n",
    "# 創建 Chroma 的儲存方式\n",
    "vectordb = Chroma.from_documents(documents=documents,\n",
    "                                  embedding=embedding,  # 使用 embed_query 方法\n",
    "                                  persist_directory=persist_directory)\n",
    "vectordb.persist()\n",
    "vectordb = None"
   ]
  },
  {
   "cell_type": "code",
   "execution_count": 5,
   "metadata": {},
   "outputs": [],
   "source": [
    "vectordb = Chroma(persist_directory=persist_directory, \n",
    "                  embedding_function=embedding)\n",
    "retriever = vectordb.as_retriever()"
   ]
  },
  {
   "cell_type": "code",
   "execution_count": 10,
   "metadata": {},
   "outputs": [
    {
     "name": "stdout",
     "output_type": "stream",
     "text": [
      "torch.Size([1, 512, 768])\n"
     ]
    }
   ],
   "source": [
    "from transformers import BertModel, BertTokenizer\n",
    "import torch\n",
    "\n",
    "# 加載模型和分詞器\n",
    "model_name = \"/user_data/NLP_model/bert-base-cased\"\n",
    "tokenizer = BertTokenizer.from_pretrained(model_name)\n",
    "model = BertModel.from_pretrained(model_name)\n",
    "\n",
    "# 打開並讀取文本文件\n",
    "with open('en-MFG/en-MGF_contents.txt', 'r', encoding='utf-8') as file:\n",
    "    text = file.read()\n",
    "\n",
    "# 將文本分割成較小的塊\n",
    "max_length = 512\n",
    "tokens = tokenizer(text, return_tensors=\"pt\", truncation=True, padding=True, max_length=max_length)\n",
    "\n",
    "# 獲取嵌入\n",
    "embeddings_list = []\n",
    "for i in range(0, len(tokens['input_ids'][0]), max_length):\n",
    "    input_chunk = {key: val[:, i:i + max_length] for key, val in tokens.items()}\n",
    "    with torch.no_grad():\n",
    "        outputs = model(**input_chunk)\n",
    "    embeddings_list.append(outputs.last_hidden_state)\n",
    "\n",
    "# 將所有嵌入塊拼接在一起\n",
    "embeddings = torch.cat(embeddings_list, dim=1)\n",
    "\n",
    "# 打印嵌入向量的形狀\n",
    "print(embeddings.shape)"
   ]
  },
  {
   "cell_type": "code",
   "execution_count": 18,
   "metadata": {},
   "outputs": [
    {
     "name": "stdout",
     "output_type": "stream",
     "text": [
      "Padded tokens are \n",
      " ['[CLS]', 'I', 'really', 'enjoyed', 'this', 'movie', 'a', 'lot', '.', '[SEP]', '[PAD]', '[PAD]', '[PAD]', '[PAD]', '[PAD]'] \n",
      "Attention Mask are \n",
      " [1, 1, 1, 1, 1, 1, 1, 1, 1, 1, 0, 0, 0, 0, 0] \n",
      "tensor([[ 101,  146, 1541, 4927, 1142, 2523,  170, 1974,  119,  102,    0,    0,\n",
      "            0,    0,    0]])\n",
      "tensor([[1, 1, 1, 1, 1, 1, 1, 1, 1, 1, 0, 0, 0, 0, 0]])\n",
      "tensor([[0, 0, 0, 0, 0, 0, 0, 0, 0, 0, 0, 0, 0, 0, 0]])\n",
      "torch.Size([1, 15, 768])\n",
      "torch.Size([1, 768])\n"
     ]
    }
   ],
   "source": [
    "sentence = 'I really enjoyed this movie a lot.'\n",
    "\n",
    "tokens = tokenizer.tokenize(sentence)\n",
    "tokens = ['[CLS]'] + tokens + ['[SEP]']\n",
    "\n",
    "T=15\n",
    "padded_tokens = tokens + ['[PAD]' for _ in range(T-len(tokens))]\n",
    "print(\"Padded tokens are \\n {} \".format(padded_tokens))\n",
    "attn_mask = [ 1 if token != '[PAD]' else 0 for token in padded_tokens  ]\n",
    "print(\"Attention Mask are \\n {} \".format(attn_mask))\n",
    "seg_ids = [0 for _ in range(len(padded_tokens))]\n",
    "sent_ids = tokenizer.convert_tokens_to_ids(padded_tokens)\n",
    "token_ids = torch.tensor(sent_ids).unsqueeze(0) \n",
    "attn_mask = torch.tensor(attn_mask).unsqueeze(0) \n",
    "seg_ids   = torch.tensor(seg_ids).unsqueeze(0)\n",
    "\n",
    "print(token_ids)\n",
    "print(attn_mask)\n",
    "print(seg_ids)\n",
    "output = model(token_ids, attention_mask=attn_mask,token_type_ids=seg_ids)\n",
    "last_hidden_state, pooler_output = output[0], output[1]\n",
    "\n",
    "print(last_hidden_state.shape) #hidden states of each token\n",
    "print(pooler_output.shape) #hidden states of [cls] (forward one linear layer and Tanh activation)"
   ]
  }
 ],
 "metadata": {
  "kernelspec": {
   "display_name": ".venv",
   "language": "python",
   "name": "python3"
  },
  "language_info": {
   "codemirror_mode": {
    "name": "ipython",
    "version": 3
   },
   "file_extension": ".py",
   "mimetype": "text/x-python",
   "name": "python",
   "nbconvert_exporter": "python",
   "pygments_lexer": "ipython3",
   "version": "3.10.12"
  }
 },
 "nbformat": 4,
 "nbformat_minor": 2
}
